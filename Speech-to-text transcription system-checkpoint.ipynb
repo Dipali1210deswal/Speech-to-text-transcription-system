{
 "cells": [
  {
   "cell_type": "markdown",
   "id": "7ee5cc7a-c1d9-45a9-81ea-09bf52309d0e",
   "metadata": {},
   "source": [
    "# import packages "
   ]
  },
  {
   "cell_type": "code",
   "execution_count": 3,
   "id": "11cdc171-7003-47bc-a8be-f89d932b7749",
   "metadata": {},
   "outputs": [],
   "source": [
    "import numpy as np\n",
    "import sounddevice as sd\n",
    "import scipy.io.wavfile as wav\n",
    "from python_speech_features import mfcc\n",
    "import tensorflow as tf\n",
    "from tensorflow import keras\n",
    "from keras.models import Sequential\n",
    "from keras.layers import Dense, Dropout, Flatten, Conv2D, MaxPooling2D\n",
    "import matplotlib.pyplot as plt\n",
    "import librosa\n",
    "from pydub import AudioSegment\n",
    "from pydub.playback import play\n",
    "import io\n",
    "import IPython.display as ipd\n",
    "from ipywidgets import widgets  # Import the widgets module\n",
    "from IPython.display import display\n",
    "import threading\n",
    "import time"
   ]
  },
  {
   "cell_type": "markdown",
   "id": "35668a13-9c6a-453c-bd2a-c2261fb44025",
   "metadata": {},
   "source": [
    "# preprocess audio data"
   ]
  },
  {
   "cell_type": "code",
   "execution_count": 4,
   "id": "f752ee54-d225-4c8a-84fc-5b69479b1ab2",
   "metadata": {},
   "outputs": [],
   "source": [
    "def record_audio(duration, fs=16000):\n",
    "    print(\"Recording...\")\n",
    "    recording = sd.rec(int(duration * fs), samplerate=fs, channels=1)\n",
    "    sd.wait()\n",
    "    print(\"Recording complete\")\n",
    "    return recording, fs\n",
    "\n",
    "def save_audio(recording, fs, filename='output.wav'):\n",
    "    wav.write(filename, fs, recording)\n",
    "    print(f\"Audio saved as {filename}\")\n",
    "\n",
    "def preprocess_audio(filename='output.wav'):\n",
    "    y, sr = librosa.load(filename, sr=None)\n",
    "    mfcc_features = mfcc(y, sr)\n",
    "    return mfcc_features"
   ]
  },
  {
   "cell_type": "markdown",
   "id": "8999885d-0b7e-4326-80c5-0ccf8a1d3188",
   "metadata": {},
   "source": [
    "# build and train model"
   ]
  },
  {
   "cell_type": "code",
   "execution_count": 5,
   "id": "0f6462ad-3f67-43b5-8ac3-86e990aa565b",
   "metadata": {},
   "outputs": [],
   "source": [
    "def build_model(input_shape):\n",
    "    model = Sequential()\n",
    "    model.add(Conv2D(32, kernel_size=(3, 3), activation='relu', input_shape=input_shape))\n",
    "    model.add(MaxPooling2D(pool_size=(2, 2)))\n",
    "    model.add(Dropout(0.25))\n",
    "    model.add(Flatten())\n",
    "    model.add(Dense(128, activation='relu'))\n",
    "    model.add(Dropout(0.5))\n",
    "    model.add(Dense(10, activation='softmax'))\n",
    "    model.compile(loss='categorical_crossentropy', optimizer='adam', metrics=['accuracy'])\n",
    "    return model\n",
    "\n",
    "# Assuming you have training data\n",
    "# X_train, y_train = ...\n",
    "\n",
    "# input_shape = X_train.shape[1:]\n",
    "# model = build_model(input_shape)\n",
    "# model.fit(X_train, y_train, batch_size=32, epochs=10, validation_split=0.2)\n"
   ]
  },
  {
   "cell_type": "markdown",
   "id": "a0a33693-89c4-4ec0-9aa9-8657dcc3735d",
   "metadata": {},
   "source": [
    "# evaluate the model"
   ]
  },
  {
   "cell_type": "code",
   "execution_count": 6,
   "id": "5728af11-c508-4e20-8459-d1f03a9865b8",
   "metadata": {},
   "outputs": [],
   "source": [
    "# Assuming you have test data\n",
    "# X_test, y_test = ...\n",
    "# score = model.evaluate(X_test, y_test, verbose=0)\n",
    "# print('Test loss:', score[0])\n",
    "# print('Test accuracy:', score[1])\n"
   ]
  },
  {
   "cell_type": "markdown",
   "id": "d2840e44-a81e-48be-823e-3c882a37ba85",
   "metadata": {},
   "source": [
    "# implement GUI with record and stop buttons"
   ]
  },
  {
   "cell_type": "code",
   "execution_count": 7,
   "id": "10ad0cfb-5787-4985-9402-2f9bab37ce1c",
   "metadata": {},
   "outputs": [
    {
     "data": {
      "application/vnd.jupyter.widget-view+json": {
       "model_id": "ee1b191597cf4736b7c81bdcdb60b9b8",
       "version_major": 2,
       "version_minor": 0
      },
      "text/plain": [
       "Button(description='Record', style=ButtonStyle())"
      ]
     },
     "metadata": {},
     "output_type": "display_data"
    },
    {
     "data": {
      "application/vnd.jupyter.widget-view+json": {
       "model_id": "170333f69d3a4eebb16a9de76f072b72",
       "version_major": 2,
       "version_minor": 0
      },
      "text/plain": [
       "Button(description='Stop', style=ButtonStyle())"
      ]
     },
     "metadata": {},
     "output_type": "display_data"
    }
   ],
   "source": [
    "record_button = widgets.Button(description=\"Record\")\n",
    "stop_button = widgets.Button(description=\"Stop\")\n",
    "\n",
    "display(record_button, stop_button)\n",
    "\n",
    "recording = None\n",
    "fs = 16000\n",
    "recording_thread = None\n",
    "is_recording = False\n",
    "\n",
    "def record_callback(button):\n",
    "    global recording, recording_thread, is_recording\n",
    "    is_recording = True\n",
    "    recording_thread = threading.Thread(target=record_audio_callback)\n",
    "    recording_thread.start()\n",
    "\n",
    "def stop_callback(button):\n",
    "    global is_recording\n",
    "    is_recording = False\n",
    "    if recording_thread is not None:\n",
    "        recording_thread.join()\n",
    "    save_audio(recording, fs)\n",
    "    features = preprocess_audio()\n",
    "    print(\"MFCC Features:\", features)\n",
    "    # Predict using the trained model\n",
    "    # prediction = model.predict(features)\n",
    "    # print(\"Prediction:\", prediction)\n",
    "\n",
    "def record_audio_callback():\n",
    "    global recording, fs\n",
    "    recording, fs = record_audio(10, fs)  # Record for 10 seconds\n",
    "\n",
    "record_button.on_click(record_callback)\n",
    "stop_button.on_click(stop_callback)\n"
   ]
  },
  {
   "cell_type": "code",
   "execution_count": null,
   "id": "1f29fae6-fef6-4c39-9408-c8d4ed0e2640",
   "metadata": {},
   "outputs": [],
   "source": []
  },
  {
   "cell_type": "code",
   "execution_count": null,
   "id": "468f2405-5e2d-467e-a12f-25b110b6c3d6",
   "metadata": {},
   "outputs": [],
   "source": []
  }
 ],
 "metadata": {
  "kernelspec": {
   "display_name": "Python 3 (ipykernel)",
   "language": "python",
   "name": "python3"
  },
  "language_info": {
   "codemirror_mode": {
    "name": "ipython",
    "version": 3
   },
   "file_extension": ".py",
   "mimetype": "text/x-python",
   "name": "python",
   "nbconvert_exporter": "python",
   "pygments_lexer": "ipython3",
   "version": "3.12.3"
  }
 },
 "nbformat": 4,
 "nbformat_minor": 5
}
